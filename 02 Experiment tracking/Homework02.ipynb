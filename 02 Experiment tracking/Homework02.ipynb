{
 "cells": [
  {
   "cell_type": "code",
   "execution_count": 2,
   "metadata": {},
   "outputs": [
    {
     "name": "stdout",
     "output_type": "stream",
     "text": [
      "Collecting mlflow\n",
      "  Downloading mlflow-2.13.0-py3-none-any.whl (25.0 MB)\n",
      "\u001b[K     |████████████████████████████████| 25.0 MB 25.5 MB/s eta 0:00:01\n",
      "\u001b[?25hCollecting cachetools<6,>=5.0.0\n",
      "  Downloading cachetools-5.3.3-py3-none-any.whl (9.3 kB)\n",
      "Requirement already satisfied: protobuf<5,>=3.12.0 in /home/codespace/anaconda3/lib/python3.9/site-packages (from mlflow) (4.21.12)\n",
      "Requirement already satisfied: matplotlib<4 in /home/codespace/anaconda3/lib/python3.9/site-packages (from mlflow) (3.5.1)\n",
      "Collecting sqlparse<1,>=0.4.0\n",
      "  Downloading sqlparse-0.5.0-py3-none-any.whl (43 kB)\n",
      "\u001b[K     |████████████████████████████████| 43 kB 974 kB/s  eta 0:00:01\n",
      "\u001b[?25hRequirement already satisfied: alembic!=1.10.0,<2 in /home/codespace/anaconda3/lib/python3.9/site-packages (from mlflow) (1.13.1)\n",
      "Collecting docker<8,>=4.0.0\n",
      "  Downloading docker-7.0.0-py3-none-any.whl (147 kB)\n",
      "\u001b[K     |████████████████████████████████| 147 kB 70.0 MB/s eta 0:00:01\n",
      "\u001b[?25hCollecting opentelemetry-sdk<3,>=1.0.0\n",
      "  Downloading opentelemetry_sdk-1.24.0-py3-none-any.whl (106 kB)\n",
      "\u001b[K     |████████████████████████████████| 106 kB 76.1 MB/s eta 0:00:01\n",
      "\u001b[?25hRequirement already satisfied: markdown<4,>=3.3 in /home/codespace/anaconda3/lib/python3.9/site-packages (from mlflow) (3.3.4)\n",
      "Requirement already satisfied: importlib-metadata!=4.7.0,<8,>=3.7.0 in /home/codespace/anaconda3/lib/python3.9/site-packages (from mlflow) (4.11.3)\n",
      "Requirement already satisfied: pyyaml<7,>=5.1 in /home/codespace/anaconda3/lib/python3.9/site-packages (from mlflow) (6.0)\n",
      "Requirement already satisfied: sqlalchemy<3,>=1.4.0 in /home/codespace/anaconda3/lib/python3.9/site-packages (from mlflow) (1.4.32)\n",
      "Requirement already satisfied: packaging<25 in /home/codespace/anaconda3/lib/python3.9/site-packages (from mlflow) (21.3)\n",
      "Requirement already satisfied: pandas<3 in /home/codespace/anaconda3/lib/python3.9/site-packages (from mlflow) (1.4.2)\n",
      "Requirement already satisfied: scikit-learn<2 in /home/codespace/anaconda3/lib/python3.9/site-packages (from mlflow) (1.0.2)\n",
      "Requirement already satisfied: pytz<2025 in /home/codespace/anaconda3/lib/python3.9/site-packages (from mlflow) (2022.2.1)\n",
      "Requirement already satisfied: cloudpickle<4 in /home/codespace/anaconda3/lib/python3.9/site-packages (from mlflow) (2.0.0)\n",
      "Requirement already satisfied: Flask<4 in /home/codespace/anaconda3/lib/python3.9/site-packages (from mlflow) (1.1.2)\n",
      "Requirement already satisfied: entrypoints<1 in /home/codespace/anaconda3/lib/python3.9/site-packages (from mlflow) (0.4)\n",
      "Collecting opentelemetry-api<3,>=1.0.0\n",
      "  Downloading opentelemetry_api-1.24.0-py3-none-any.whl (60 kB)\n",
      "\u001b[K     |████████████████████████████████| 60 kB 3.6 MB/s  eta 0:00:01\n",
      "\u001b[?25hCollecting graphene<4\n",
      "  Downloading graphene-3.3-py2.py3-none-any.whl (128 kB)\n",
      "\u001b[K     |████████████████████████████████| 128 kB 47.7 MB/s eta 0:00:01\n",
      "\u001b[?25hCollecting querystring-parser<2\n",
      "  Downloading querystring_parser-1.2.4-py2.py3-none-any.whl (7.9 kB)\n",
      "Requirement already satisfied: Jinja2<4,>=2.11 in /home/codespace/anaconda3/lib/python3.9/site-packages (from mlflow) (3.1.3)\n",
      "Requirement already satisfied: numpy<2 in /home/codespace/anaconda3/lib/python3.9/site-packages (from mlflow) (1.22.4)\n",
      "Collecting gunicorn<23\n",
      "  Downloading gunicorn-22.0.0-py3-none-any.whl (84 kB)\n",
      "\u001b[K     |████████████████████████████████| 84 kB 1.2 MB/s  eta 0:00:01\n",
      "\u001b[?25hRequirement already satisfied: pyarrow<16,>=4.0.0 in /home/codespace/anaconda3/lib/python3.9/site-packages (from mlflow) (14.0.1)\n",
      "Requirement already satisfied: gitpython<4,>=3.1.9 in /home/codespace/anaconda3/lib/python3.9/site-packages (from mlflow) (3.1.41)\n",
      "Requirement already satisfied: scipy<2 in /home/codespace/anaconda3/lib/python3.9/site-packages (from mlflow) (1.7.3)\n",
      "Requirement already satisfied: requests<3,>=2.17.3 in /home/codespace/anaconda3/lib/python3.9/site-packages (from mlflow) (2.31.0)\n",
      "Requirement already satisfied: click<9,>=7.0 in /home/codespace/anaconda3/lib/python3.9/site-packages (from mlflow) (8.0.4)\n",
      "Requirement already satisfied: Mako in /home/codespace/anaconda3/lib/python3.9/site-packages (from alembic!=1.10.0,<2->mlflow) (1.3.5)\n",
      "Requirement already satisfied: typing-extensions>=4 in /home/codespace/anaconda3/lib/python3.9/site-packages (from alembic!=1.10.0,<2->mlflow) (4.10.0)\n",
      "Requirement already satisfied: urllib3>=1.26.0 in /home/codespace/anaconda3/lib/python3.9/site-packages (from docker<8,>=4.0.0->mlflow) (2.2.1)\n",
      "Requirement already satisfied: Werkzeug>=0.15 in /home/codespace/anaconda3/lib/python3.9/site-packages (from Flask<4->mlflow) (2.0.3)\n",
      "Requirement already satisfied: itsdangerous>=0.24 in /home/codespace/anaconda3/lib/python3.9/site-packages (from Flask<4->mlflow) (1.1.0)\n",
      "Requirement already satisfied: gitdb<5,>=4.0.1 in /home/codespace/anaconda3/lib/python3.9/site-packages (from gitpython<4,>=3.1.9->mlflow) (4.0.11)\n",
      "Requirement already satisfied: smmap<6,>=3.0.1 in /home/codespace/anaconda3/lib/python3.9/site-packages (from gitdb<5,>=4.0.1->gitpython<4,>=3.1.9->mlflow) (5.0.1)\n",
      "Collecting graphql-relay<3.3,>=3.1\n",
      "  Downloading graphql_relay-3.2.0-py3-none-any.whl (16 kB)\n",
      "Collecting graphql-core<3.3,>=3.1\n",
      "  Downloading graphql_core-3.2.3-py3-none-any.whl (202 kB)\n",
      "\u001b[K     |████████████████████████████████| 202 kB 70.4 MB/s eta 0:00:01\n",
      "\u001b[?25hCollecting aniso8601<10,>=8\n",
      "  Downloading aniso8601-9.0.1-py2.py3-none-any.whl (52 kB)\n",
      "\u001b[K     |████████████████████████████████| 52 kB 618 kB/s  eta 0:00:01\n",
      "\u001b[?25hRequirement already satisfied: zipp>=0.5 in /home/codespace/anaconda3/lib/python3.9/site-packages (from importlib-metadata!=4.7.0,<8,>=3.7.0->mlflow) (3.7.0)\n",
      "Requirement already satisfied: MarkupSafe>=2.0 in /home/codespace/anaconda3/lib/python3.9/site-packages (from Jinja2<4,>=2.11->mlflow) (2.0.1)\n",
      "Requirement already satisfied: cycler>=0.10 in /home/codespace/anaconda3/lib/python3.9/site-packages (from matplotlib<4->mlflow) (0.11.0)\n",
      "Requirement already satisfied: kiwisolver>=1.0.1 in /home/codespace/anaconda3/lib/python3.9/site-packages (from matplotlib<4->mlflow) (1.3.2)\n",
      "Requirement already satisfied: pillow>=6.2.0 in /home/codespace/anaconda3/lib/python3.9/site-packages (from matplotlib<4->mlflow) (9.0.1)\n",
      "Requirement already satisfied: fonttools>=4.22.0 in /home/codespace/anaconda3/lib/python3.9/site-packages (from matplotlib<4->mlflow) (4.25.0)\n",
      "Requirement already satisfied: pyparsing>=2.2.1 in /home/codespace/anaconda3/lib/python3.9/site-packages (from matplotlib<4->mlflow) (3.0.4)\n",
      "Requirement already satisfied: python-dateutil>=2.7 in /home/codespace/anaconda3/lib/python3.9/site-packages (from matplotlib<4->mlflow) (2.8.2)\n",
      "Collecting importlib-metadata!=4.7.0,<8,>=3.7.0\n",
      "  Downloading importlib_metadata-7.0.0-py3-none-any.whl (23 kB)\n",
      "Requirement already satisfied: deprecated>=1.2.6 in /home/codespace/anaconda3/lib/python3.9/site-packages (from opentelemetry-api<3,>=1.0.0->mlflow) (1.2.14)\n",
      "Requirement already satisfied: wrapt<2,>=1.10 in /home/codespace/anaconda3/lib/python3.9/site-packages (from deprecated>=1.2.6->opentelemetry-api<3,>=1.0.0->mlflow) (1.12.1)\n",
      "Collecting opentelemetry-semantic-conventions==0.45b0\n",
      "  Downloading opentelemetry_semantic_conventions-0.45b0-py3-none-any.whl (36 kB)\n",
      "Requirement already satisfied: six>=1.5 in /home/codespace/anaconda3/lib/python3.9/site-packages (from python-dateutil>=2.7->matplotlib<4->mlflow) (1.16.0)\n",
      "Requirement already satisfied: charset-normalizer<4,>=2 in /home/codespace/anaconda3/lib/python3.9/site-packages (from requests<3,>=2.17.3->mlflow) (2.0.4)\n",
      "Requirement already satisfied: idna<4,>=2.5 in /home/codespace/anaconda3/lib/python3.9/site-packages (from requests<3,>=2.17.3->mlflow) (3.3)\n",
      "Requirement already satisfied: certifi>=2017.4.17 in /home/codespace/anaconda3/lib/python3.9/site-packages (from requests<3,>=2.17.3->mlflow) (2021.10.8)\n",
      "Requirement already satisfied: threadpoolctl>=2.0.0 in /home/codespace/anaconda3/lib/python3.9/site-packages (from scikit-learn<2->mlflow) (2.2.0)\n",
      "Requirement already satisfied: joblib>=0.11 in /home/codespace/anaconda3/lib/python3.9/site-packages (from scikit-learn<2->mlflow) (1.1.0)\n",
      "Requirement already satisfied: greenlet!=0.4.17 in /home/codespace/anaconda3/lib/python3.9/site-packages (from sqlalchemy<3,>=1.4.0->mlflow) (1.1.1)\n",
      "Installing collected packages: importlib-metadata, graphql-core, opentelemetry-semantic-conventions, opentelemetry-api, graphql-relay, aniso8601, sqlparse, querystring-parser, opentelemetry-sdk, gunicorn, graphene, docker, cachetools, mlflow\n",
      "  Attempting uninstall: importlib-metadata\n",
      "    Found existing installation: importlib-metadata 4.11.3\n",
      "    Uninstalling importlib-metadata-4.11.3:\n",
      "      Successfully uninstalled importlib-metadata-4.11.3\n",
      "  Attempting uninstall: cachetools\n",
      "    Found existing installation: cachetools 4.2.2\n",
      "    Uninstalling cachetools-4.2.2:\n",
      "      Successfully uninstalled cachetools-4.2.2\n",
      "\u001b[31mERROR: pip's dependency resolver does not currently take into account all the packages that are installed. This behaviour is the source of the following dependency conflicts.\n",
      "google-auth 1.33.0 requires cachetools<5.0,>=2.0.0, but you have cachetools 5.3.3 which is incompatible.\u001b[0m\n",
      "Successfully installed aniso8601-9.0.1 cachetools-5.3.3 docker-7.0.0 graphene-3.3 graphql-core-3.2.3 graphql-relay-3.2.0 gunicorn-22.0.0 importlib-metadata-7.0.0 mlflow-2.13.0 opentelemetry-api-1.24.0 opentelemetry-sdk-1.24.0 opentelemetry-semantic-conventions-0.45b0 querystring-parser-1.2.4 sqlparse-0.5.0\n"
     ]
    }
   ],
   "source": [
    "%pip install mlflow"
   ]
  },
  {
   "cell_type": "code",
   "execution_count": 3,
   "metadata": {},
   "outputs": [
    {
     "name": "stdout",
     "output_type": "stream",
     "text": [
      "mlflow, version 2.13.0\n"
     ]
    }
   ],
   "source": [
    "!mlflow --version"
   ]
  },
  {
   "cell_type": "code",
   "execution_count": null,
   "metadata": {},
   "outputs": [],
   "source": []
  }
 ],
 "metadata": {
  "kernelspec": {
   "display_name": "Python 3",
   "language": "python",
   "name": "python3"
  },
  "language_info": {
   "codemirror_mode": {
    "name": "ipython",
    "version": 3
   },
   "file_extension": ".py",
   "mimetype": "text/x-python",
   "name": "python",
   "nbconvert_exporter": "python",
   "pygments_lexer": "ipython3",
   "version": "3.9.12"
  }
 },
 "nbformat": 4,
 "nbformat_minor": 2
}
